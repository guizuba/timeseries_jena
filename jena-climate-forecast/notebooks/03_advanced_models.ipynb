{
 "cells": [
  {
   "cell_type": "code",
   "execution_count": null,
   "id": "9462ce8c",
   "metadata": {
    "vscode": {
     "languageId": "plaintext"
    }
   },
   "outputs": [],
   "source": [
    "# 03_model_selection.ipynb\n",
    "\n",
    "# Seleção de Modelos e Comparação com Dados Reais\n",
    "\n",
    "import pandas as pd\n",
    "import numpy as np\n",
    "from statsforecast import StatsForecast\n",
    "from statsforecast.models import AutoARIMA, AutoMFLES, WindowAverage, HoltWinters\n",
    "from sklearn.metrics import mean_absolute_error\n",
    "import matplotlib.pyplot as plt\n",
    "import joblib\n",
    "\n",
    "# --- 1. Carregar dados e modelo AutoARIMA ---\n",
    "df = pd.read_csv('jena_climate_2009_2016.csv')\n",
    "df['Date Time'] = pd.to_datetime(df['Date Time'], format=\"%d.%m.%Y %H:%M:%S\", dayfirst=True)\n",
    "df = df.set_index('Date Time').resample('h').mean().interpolate().reset_index()\n",
    "\n",
    "# --- 2. Selecionar variáveis e formatar dataset ---\n",
    "selected_features = ['p (mbar)', 'Tpot (K)', 'rh (%)', 'rho (g/m**3)', 'wd (deg)']\n",
    "target_variable = 'T (degC)'\n",
    "df_model = df[['Date Time', target_variable] + selected_features].copy()\n",
    "df_model = df_model.rename(columns={'Date Time': 'ds', target_variable: 'y'})\n",
    "df_model['unique_id'] = 'jena_temp'\n",
    "\n",
    "# --- 3. Separar treino (menos 24h finais) e teste (últimas 24h) ---\n",
    "cutoff = df_model['ds'].max() - pd.Timedelta(hours=24)\n",
    "df_train = df_model[df_model['ds'] <= cutoff].copy()\n",
    "df_test = df_model[df_model['ds'] > cutoff].copy()\n",
    "\n",
    "# --- 4. Carregar modelo AutoARIMA treinado ---\n",
    "autoarima_model = joblib.load('data/autoarima_model.pkl')\n",
    "\n",
    "# --- 5. Reajustar modelos incluindo AutoARIMA carregado ---\n",
    "models = [\n",
    "    autoarima_model,\n",
    "    HoltWinters(season_length=24),\n",
    "    WindowAverage(window_size=24)\n",
    "]\n",
    "\n",
    "sf = StatsForecast(models=models, freq='h', n_jobs=-1)\n",
    "sf.fit(df_train[['unique_id', 'ds', 'y']])\n",
    "forecast = sf.predict(h=24)\n",
    "\n",
    "# --- 6. Calcular MAE ---\n",
    "y_true = df_test['y'].values\n",
    "y_preds = {col: forecast[col].values for col in forecast.columns if col not in ['unique_id', 'ds']}\n",
    "mae_scores = {model: mean_absolute_error(y_true, y_pred) for model, y_pred in y_preds.items()}\n",
    "\n",
    "print(\"\\nMAE dos modelos nas últimas 24h:\")\n",
    "for model, mae in mae_scores.items():\n",
    "    print(f\"{model}: {mae:.2f} °C\")\n",
    "\n",
    "# --- 7. Visualização das previsões ---\n",
    "plt.figure(figsize=(15, 5))\n",
    "plt.plot(df_model['ds'].iloc[-100:], df_model['y'].iloc[-100:], label='Histórico')\n",
    "for model in forecast.columns:\n",
    "    if model not in ['unique_id', 'ds']:\n",
    "        plt.plot(forecast['ds'], forecast[model], label=model)\n",
    "plt.title('Comparação de Modelos com Dados Reais')\n",
    "plt.xlabel('Data')\n",
    "plt.ylabel('Temperatura (°C)')\n",
    "plt.legend()\n",
    "plt.grid(True)\n",
    "plt.tight_layout()\n",
    "plt.show()\n"
   ]
  }
 ],
 "metadata": {
  "language_info": {
   "name": "python"
  }
 },
 "nbformat": 4,
 "nbformat_minor": 5
}
